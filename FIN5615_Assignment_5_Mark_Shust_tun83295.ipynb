{
 "cells": [
  {
   "cell_type": "markdown",
   "metadata": {
    "deletable": false,
    "editable": false
   },
   "source": [
    "<h2>FIN5615 Project #5\n",
    "    <p class=\"text-primary\">Portfolio Optimization</p>\n",
    "</h2>\n",
    "\n",
    "<div class = \"alert alert-block alert-danger\">\n",
    "    <b>Due Date</b>: November 2nd, 2020, 11:59PM EST\n",
    "</div>"
   ]
  },
  {
   "cell_type": "markdown",
   "metadata": {
    "deletable": false,
    "editable": false
   },
   "source": [
    "<div class = \"panel panel-success\">\n",
    "    <div class = \"panel-heading\"> \n",
    "    <span style=\"color:black\"><b>Project Introduction</b>\n",
    "    </div>\n",
    "    <div class = \"panel-body\"> \n",
    "    In this project we will locate the efficient frontier and optimal portfolio allocation across 5 different ETF's, each representing a distinct asset class. In addition, we will specifically examine the role of Gold in a well diversified portfolio compared to the optimal portfolio, as well as examining their performance under different bull and bear market conditions.\n",
    "    </div>\n",
    "</div>\n",
    "\n",
    "<div class = \"panel panel-success\">\n",
    "    <div class = \"panel-heading\"> \n",
    "    <span style=\"color:black\"><b>Data</b>\n",
    "    </div>\n",
    "    <div class = \"panel-body\"> \n",
    "    The data for this project includes the historical daily prices, from the ETF's inception to date, for each of the 5 ETF's each representing a distinct asset class. Specifically:\n",
    "    <br>\n",
    "    <ul>\n",
    "        <li>SPY: S&P 500 index ETF, representing US Large Cap Equities.</li>\n",
    "        <li>IWM: Russell 2000 index ETF, representing US Small Cap Equities.</li>\n",
    "        <li>LQD: iShares Investment Grade Coporate Bond ETF, representing Bonds.</li>\n",
    "        <li>VXUS: Vanguard Total International Stock ETF, representing International Equities.</li>\n",
    "        <li>GLD: SPDR Gold Trust ETF, representing Gold.</li>\n",
    "    </ul>\n",
    "    <br>In the folder \"ETF\", you will find one CSV file for each of the above ETF's. For this project, we will be focusing only on the historical closing prices listed under column \"Adj Close\" (adjusted for stock splits)\n",
    "    <br><br>Download and place the entire \"ETF\" folder in the \"Data\" folder of your working directory. Remember to read in the datasets starting with the relative file path: <code>'../../Data/ETF'</code>. \n",
    "    </div>\n",
    "</div>\n",
    "\n",
    "<div class = \"panel panel-info\">\n",
    "    <div class = \"panel-heading\"> \n",
    "    <span style=\"color:black\"><b>Instructions</b>\n",
    "    </div>\n",
    "    <div class = \"panel-body\"> \n",
    "    Please code you solutions directly in this Notebook under each task in the cells provided below. Include all code used to produce your results, and support your answers with textual explanations if neccessary. You may feel free to add additional Code and/or Markdown cells as needed. Code must be written using <b>Python 3</b>.\n",
    "    <br><br>Please order the cells in your Notebook in the order in which they are intended to run! It is expected that your Notebook is able to run in sequence from start to finish without any errors (before submitting check by: <code>Kernel > Restart & Run All</code>).\n",
    "    <br><br>Once ready, please submit your assignment as an <b>.ipynb file</b> (<code>File > Download as > Notebook</code>). You must name your files in the following format: <b><code>FIN5615_Assignmnet_1_Richard_Lee_tuc12345.ipynb</code></b>.\n",
    "    </div>\n",
    "</div>\n",
    "\n",
    "---\n",
    "<div class = \"alert alert-block alert-warning\">\n",
    "    <b>Note</b>: Add any additional libraries that you plan on using to the import statements in the code block below.\n",
    "</div>"
   ]
  },
  {
   "cell_type": "code",
   "execution_count": 1,
   "metadata": {},
   "outputs": [],
   "source": [
    "import pandas as pd\n",
    "import numpy as np\n",
    "import matplotlib.pyplot as plt"
   ]
  },
  {
   "cell_type": "markdown",
   "metadata": {
    "deletable": false,
    "editable": false
   },
   "source": [
    "<div class = \"panel panel-primary\">\n",
    "    <div class = \"panel-heading\"> \n",
    "    <span style=\"color:white\"><b>Task 1</b>\n",
    "    </div>\n",
    "    <div class = \"panel-body\"> \n",
    "    The CSV files in the ETF folder contains the historical daily time series of ETF prices for a set of indexes each tracking a different asset class. First, read each CSV file into a dataframe, keeping only the <code>'Date'</code> and <code>'Adj Close'</code> columns and also setting the <code>'Date'</code> column as the index.\n",
    "    <br><br>Then concatenate the 5 dataframes into a single dataframe called <code>ETF_prices</code>, keeping only the trading days where a price is observed for every ETF, i.e. an inner join. Use the ETF's ticker symbols as the column labels of <code>ETF_prices</code>. \n",
    "    <p style=\"text-align:right;\">[5pts]</p>\n",
    "    </div>\n",
    "</div>"
   ]
  },
  {
   "cell_type": "code",
   "execution_count": 3,
   "metadata": {},
   "outputs": [
    {
     "ename": "FileNotFoundError",
     "evalue": "[Errno 2] File b'../Data/ETF/SPY.csv' does not exist: b'../Data/ETF/SPY.csv'",
     "output_type": "error",
     "traceback": [
      "\u001b[0;31m---------------------------------------------------------------------------\u001b[0m",
      "\u001b[0;31mFileNotFoundError\u001b[0m                         Traceback (most recent call last)",
      "\u001b[0;32m<ipython-input-3-732ef8bc5aac>\u001b[0m in \u001b[0;36m<module>\u001b[0;34m\u001b[0m\n\u001b[1;32m      3\u001b[0m \u001b[0mETF_list\u001b[0m \u001b[0;34m=\u001b[0m\u001b[0;34m[\u001b[0m\u001b[0;34m]\u001b[0m\u001b[0;34m\u001b[0m\u001b[0;34m\u001b[0m\u001b[0m\n\u001b[1;32m      4\u001b[0m \u001b[0;32mfor\u001b[0m \u001b[0metf\u001b[0m \u001b[0;32min\u001b[0m \u001b[0mETFs\u001b[0m\u001b[0;34m:\u001b[0m\u001b[0;34m\u001b[0m\u001b[0;34m\u001b[0m\u001b[0m\n\u001b[0;32m----> 5\u001b[0;31m     \u001b[0mdf\u001b[0m \u001b[0;34m=\u001b[0m  \u001b[0mpd\u001b[0m\u001b[0;34m.\u001b[0m\u001b[0mread_csv\u001b[0m\u001b[0;34m(\u001b[0m\u001b[0;34mf'../Data/ETF/{etf}.csv'\u001b[0m\u001b[0;34m,\u001b[0m \u001b[0mindex_col\u001b[0m \u001b[0;34m=\u001b[0m\u001b[0;34m'Date'\u001b[0m\u001b[0;34m,\u001b[0m \u001b[0musecols\u001b[0m \u001b[0;34m=\u001b[0m \u001b[0;34m[\u001b[0m\u001b[0;34m'Date'\u001b[0m\u001b[0;34m,\u001b[0m\u001b[0;34m'Adj Close'\u001b[0m\u001b[0;34m]\u001b[0m\u001b[0;34m)\u001b[0m\u001b[0;34m\u001b[0m\u001b[0;34m\u001b[0m\u001b[0m\n\u001b[0m\u001b[1;32m      6\u001b[0m     \u001b[0mETF_list\u001b[0m\u001b[0;34m.\u001b[0m\u001b[0mappend\u001b[0m\u001b[0;34m(\u001b[0m\u001b[0mdf\u001b[0m\u001b[0;34m)\u001b[0m\u001b[0;34m\u001b[0m\u001b[0;34m\u001b[0m\u001b[0m\n\u001b[1;32m      7\u001b[0m \u001b[0;34m\u001b[0m\u001b[0m\n",
      "\u001b[0;32m/opt/anaconda3/lib/python3.7/site-packages/pandas/io/parsers.py\u001b[0m in \u001b[0;36mparser_f\u001b[0;34m(filepath_or_buffer, sep, delimiter, header, names, index_col, usecols, squeeze, prefix, mangle_dupe_cols, dtype, engine, converters, true_values, false_values, skipinitialspace, skiprows, skipfooter, nrows, na_values, keep_default_na, na_filter, verbose, skip_blank_lines, parse_dates, infer_datetime_format, keep_date_col, date_parser, dayfirst, cache_dates, iterator, chunksize, compression, thousands, decimal, lineterminator, quotechar, quoting, doublequote, escapechar, comment, encoding, dialect, error_bad_lines, warn_bad_lines, delim_whitespace, low_memory, memory_map, float_precision)\u001b[0m\n\u001b[1;32m    683\u001b[0m         )\n\u001b[1;32m    684\u001b[0m \u001b[0;34m\u001b[0m\u001b[0m\n\u001b[0;32m--> 685\u001b[0;31m         \u001b[0;32mreturn\u001b[0m \u001b[0m_read\u001b[0m\u001b[0;34m(\u001b[0m\u001b[0mfilepath_or_buffer\u001b[0m\u001b[0;34m,\u001b[0m \u001b[0mkwds\u001b[0m\u001b[0;34m)\u001b[0m\u001b[0;34m\u001b[0m\u001b[0;34m\u001b[0m\u001b[0m\n\u001b[0m\u001b[1;32m    686\u001b[0m \u001b[0;34m\u001b[0m\u001b[0m\n\u001b[1;32m    687\u001b[0m     \u001b[0mparser_f\u001b[0m\u001b[0;34m.\u001b[0m\u001b[0m__name__\u001b[0m \u001b[0;34m=\u001b[0m \u001b[0mname\u001b[0m\u001b[0;34m\u001b[0m\u001b[0;34m\u001b[0m\u001b[0m\n",
      "\u001b[0;32m/opt/anaconda3/lib/python3.7/site-packages/pandas/io/parsers.py\u001b[0m in \u001b[0;36m_read\u001b[0;34m(filepath_or_buffer, kwds)\u001b[0m\n\u001b[1;32m    455\u001b[0m \u001b[0;34m\u001b[0m\u001b[0m\n\u001b[1;32m    456\u001b[0m     \u001b[0;31m# Create the parser.\u001b[0m\u001b[0;34m\u001b[0m\u001b[0;34m\u001b[0m\u001b[0;34m\u001b[0m\u001b[0m\n\u001b[0;32m--> 457\u001b[0;31m     \u001b[0mparser\u001b[0m \u001b[0;34m=\u001b[0m \u001b[0mTextFileReader\u001b[0m\u001b[0;34m(\u001b[0m\u001b[0mfp_or_buf\u001b[0m\u001b[0;34m,\u001b[0m \u001b[0;34m**\u001b[0m\u001b[0mkwds\u001b[0m\u001b[0;34m)\u001b[0m\u001b[0;34m\u001b[0m\u001b[0;34m\u001b[0m\u001b[0m\n\u001b[0m\u001b[1;32m    458\u001b[0m \u001b[0;34m\u001b[0m\u001b[0m\n\u001b[1;32m    459\u001b[0m     \u001b[0;32mif\u001b[0m \u001b[0mchunksize\u001b[0m \u001b[0;32mor\u001b[0m \u001b[0miterator\u001b[0m\u001b[0;34m:\u001b[0m\u001b[0;34m\u001b[0m\u001b[0;34m\u001b[0m\u001b[0m\n",
      "\u001b[0;32m/opt/anaconda3/lib/python3.7/site-packages/pandas/io/parsers.py\u001b[0m in \u001b[0;36m__init__\u001b[0;34m(self, f, engine, **kwds)\u001b[0m\n\u001b[1;32m    893\u001b[0m             \u001b[0mself\u001b[0m\u001b[0;34m.\u001b[0m\u001b[0moptions\u001b[0m\u001b[0;34m[\u001b[0m\u001b[0;34m\"has_index_names\"\u001b[0m\u001b[0;34m]\u001b[0m \u001b[0;34m=\u001b[0m \u001b[0mkwds\u001b[0m\u001b[0;34m[\u001b[0m\u001b[0;34m\"has_index_names\"\u001b[0m\u001b[0;34m]\u001b[0m\u001b[0;34m\u001b[0m\u001b[0;34m\u001b[0m\u001b[0m\n\u001b[1;32m    894\u001b[0m \u001b[0;34m\u001b[0m\u001b[0m\n\u001b[0;32m--> 895\u001b[0;31m         \u001b[0mself\u001b[0m\u001b[0;34m.\u001b[0m\u001b[0m_make_engine\u001b[0m\u001b[0;34m(\u001b[0m\u001b[0mself\u001b[0m\u001b[0;34m.\u001b[0m\u001b[0mengine\u001b[0m\u001b[0;34m)\u001b[0m\u001b[0;34m\u001b[0m\u001b[0;34m\u001b[0m\u001b[0m\n\u001b[0m\u001b[1;32m    896\u001b[0m \u001b[0;34m\u001b[0m\u001b[0m\n\u001b[1;32m    897\u001b[0m     \u001b[0;32mdef\u001b[0m \u001b[0mclose\u001b[0m\u001b[0;34m(\u001b[0m\u001b[0mself\u001b[0m\u001b[0;34m)\u001b[0m\u001b[0;34m:\u001b[0m\u001b[0;34m\u001b[0m\u001b[0;34m\u001b[0m\u001b[0m\n",
      "\u001b[0;32m/opt/anaconda3/lib/python3.7/site-packages/pandas/io/parsers.py\u001b[0m in \u001b[0;36m_make_engine\u001b[0;34m(self, engine)\u001b[0m\n\u001b[1;32m   1133\u001b[0m     \u001b[0;32mdef\u001b[0m \u001b[0m_make_engine\u001b[0m\u001b[0;34m(\u001b[0m\u001b[0mself\u001b[0m\u001b[0;34m,\u001b[0m \u001b[0mengine\u001b[0m\u001b[0;34m=\u001b[0m\u001b[0;34m\"c\"\u001b[0m\u001b[0;34m)\u001b[0m\u001b[0;34m:\u001b[0m\u001b[0;34m\u001b[0m\u001b[0;34m\u001b[0m\u001b[0m\n\u001b[1;32m   1134\u001b[0m         \u001b[0;32mif\u001b[0m \u001b[0mengine\u001b[0m \u001b[0;34m==\u001b[0m \u001b[0;34m\"c\"\u001b[0m\u001b[0;34m:\u001b[0m\u001b[0;34m\u001b[0m\u001b[0;34m\u001b[0m\u001b[0m\n\u001b[0;32m-> 1135\u001b[0;31m             \u001b[0mself\u001b[0m\u001b[0;34m.\u001b[0m\u001b[0m_engine\u001b[0m \u001b[0;34m=\u001b[0m \u001b[0mCParserWrapper\u001b[0m\u001b[0;34m(\u001b[0m\u001b[0mself\u001b[0m\u001b[0;34m.\u001b[0m\u001b[0mf\u001b[0m\u001b[0;34m,\u001b[0m \u001b[0;34m**\u001b[0m\u001b[0mself\u001b[0m\u001b[0;34m.\u001b[0m\u001b[0moptions\u001b[0m\u001b[0;34m)\u001b[0m\u001b[0;34m\u001b[0m\u001b[0;34m\u001b[0m\u001b[0m\n\u001b[0m\u001b[1;32m   1136\u001b[0m         \u001b[0;32melse\u001b[0m\u001b[0;34m:\u001b[0m\u001b[0;34m\u001b[0m\u001b[0;34m\u001b[0m\u001b[0m\n\u001b[1;32m   1137\u001b[0m             \u001b[0;32mif\u001b[0m \u001b[0mengine\u001b[0m \u001b[0;34m==\u001b[0m \u001b[0;34m\"python\"\u001b[0m\u001b[0;34m:\u001b[0m\u001b[0;34m\u001b[0m\u001b[0;34m\u001b[0m\u001b[0m\n",
      "\u001b[0;32m/opt/anaconda3/lib/python3.7/site-packages/pandas/io/parsers.py\u001b[0m in \u001b[0;36m__init__\u001b[0;34m(self, src, **kwds)\u001b[0m\n\u001b[1;32m   1915\u001b[0m         \u001b[0mkwds\u001b[0m\u001b[0;34m[\u001b[0m\u001b[0;34m\"usecols\"\u001b[0m\u001b[0;34m]\u001b[0m \u001b[0;34m=\u001b[0m \u001b[0mself\u001b[0m\u001b[0;34m.\u001b[0m\u001b[0musecols\u001b[0m\u001b[0;34m\u001b[0m\u001b[0;34m\u001b[0m\u001b[0m\n\u001b[1;32m   1916\u001b[0m \u001b[0;34m\u001b[0m\u001b[0m\n\u001b[0;32m-> 1917\u001b[0;31m         \u001b[0mself\u001b[0m\u001b[0;34m.\u001b[0m\u001b[0m_reader\u001b[0m \u001b[0;34m=\u001b[0m \u001b[0mparsers\u001b[0m\u001b[0;34m.\u001b[0m\u001b[0mTextReader\u001b[0m\u001b[0;34m(\u001b[0m\u001b[0msrc\u001b[0m\u001b[0;34m,\u001b[0m \u001b[0;34m**\u001b[0m\u001b[0mkwds\u001b[0m\u001b[0;34m)\u001b[0m\u001b[0;34m\u001b[0m\u001b[0;34m\u001b[0m\u001b[0m\n\u001b[0m\u001b[1;32m   1918\u001b[0m         \u001b[0mself\u001b[0m\u001b[0;34m.\u001b[0m\u001b[0munnamed_cols\u001b[0m \u001b[0;34m=\u001b[0m \u001b[0mself\u001b[0m\u001b[0;34m.\u001b[0m\u001b[0m_reader\u001b[0m\u001b[0;34m.\u001b[0m\u001b[0munnamed_cols\u001b[0m\u001b[0;34m\u001b[0m\u001b[0;34m\u001b[0m\u001b[0m\n\u001b[1;32m   1919\u001b[0m \u001b[0;34m\u001b[0m\u001b[0m\n",
      "\u001b[0;32mpandas/_libs/parsers.pyx\u001b[0m in \u001b[0;36mpandas._libs.parsers.TextReader.__cinit__\u001b[0;34m()\u001b[0m\n",
      "\u001b[0;32mpandas/_libs/parsers.pyx\u001b[0m in \u001b[0;36mpandas._libs.parsers.TextReader._setup_parser_source\u001b[0;34m()\u001b[0m\n",
      "\u001b[0;31mFileNotFoundError\u001b[0m: [Errno 2] File b'../Data/ETF/SPY.csv' does not exist: b'../Data/ETF/SPY.csv'"
     ]
    }
   ],
   "source": [
    "ETFs = ['SPY','LQD','IWM','VXUS','GLD']\n",
    "\n",
    "ETF_list =[]\n",
    "for etf in ETFs:\n",
    "    df =  pd.read_csv(f'../Data/ETF/{etf}.csv', index_col ='Date', usecols = ['Date','Adj Close'])\n",
    "    ETF_list.append(df)\n",
    "\n"
   ]
  },
  {
   "cell_type": "code",
   "execution_count": null,
   "metadata": {},
   "outputs": [],
   "source": [
    "ETF_prices = pd.concat(ETF_list, axis = 1, join = 'inner')\n",
    "ETF_prices.columns = ETFs\n",
    "ETF_prices"
   ]
  },
  {
   "cell_type": "markdown",
   "metadata": {
    "deletable": false,
    "editable": false
   },
   "source": [
    "<div class = \"panel panel-primary\">\n",
    "    <div class = \"panel-heading\"> \n",
    "    <span style=\"color:white\"><b>Task 2</b>\n",
    "    </div>\n",
    "    <div class = \"panel-body\"> \n",
    "    Calculate the logrithmic daily returns based off of the prices in the dataframe <code>ETF_prices</code>, and store them in another dataframe called <code>ETF_returns</code>.\n",
    "    <br><br>Then, split the returns into the following two separate dataframes:\n",
    "    <ul>\n",
    "        <li><code>hist_returns</code>: containing the observed daily returns over the period up to December 31st 2019.</li>\n",
    "        <li><code>recent_returns</code>: containing the observed daily returns over the period after January 1st 2020.</li>\n",
    "    </ul>\n",
    "    <p style=\"text-align:right;\">[5pts]</p>\n",
    "    </div>\n",
    "</div>"
   ]
  },
  {
   "cell_type": "code",
   "execution_count": null,
   "metadata": {},
   "outputs": [],
   "source": [
    "ETF_returns = np.log(1.+ETF_prices.pct_change()).dropna() * 100.\n",
    "ETF_returns"
   ]
  },
  {
   "cell_type": "code",
   "execution_count": null,
   "metadata": {},
   "outputs": [],
   "source": [
    "hist_returns = ETF_returns.loc[ETF_returns.index <= '2019-12-31']\n",
    "hist_returns"
   ]
  },
  {
   "cell_type": "code",
   "execution_count": null,
   "metadata": {},
   "outputs": [],
   "source": [
    "recent_returns = ETF_returns.loc['2020-01-01':, :]\n",
    "recent_returns"
   ]
  },
  {
   "cell_type": "code",
   "execution_count": null,
   "metadata": {},
   "outputs": [],
   "source": [
    "recent_returns = ETF_returns.loc[ETF_returns.index >= '2020-01-01']\n",
    "recent_returns"
   ]
  },
  {
   "cell_type": "markdown",
   "metadata": {
    "deletable": false,
    "editable": false
   },
   "source": [
    "<div class = \"panel panel-primary\">\n",
    "    <div class = \"panel-heading\"> \n",
    "    <span style=\"color:white\"><b>Task 3</b>\n",
    "    </div>\n",
    "    <div class = \"panel-body\"> \n",
    "    Create a function called <code>return_statistics</code> that takes in a dataframe of returns over a time period, i.e. in the same format as <code>ETF_returns</code>, then calculates and outouts the following statistics:\n",
    "    <ul>\n",
    "        <li>A series of the annualized mean return for each ETF over that time period.</li>\n",
    "        <li>A series of the annualized standard deviation of returns for each ETF over that time period.</li>\n",
    "    </ul>\n",
    "    Assume 250 trading days in a year. You can also assume that the input will always be in the form of a dataframe of ETF returns in each column. Run this function with <code>hist_returns</code> as the input.\n",
    "    <p style=\"text-align:right;\">[10pts]</p>\n",
    "    </div>\n",
    "</div>"
   ]
  },
  {
   "cell_type": "code",
   "execution_count": null,
   "metadata": {},
   "outputs": [],
   "source": [
    "def return_statistics(data_frame_timeperiod):\n",
    "    if data_frame_timeperiod == 'hist_returns':\n",
    "        mean_annual = hist_returns.mean()*(250.)\n",
    "        stdev_annual = hist_returns.std()*(250.**.5)\n",
    "        return ann_mean,ann_std\n",
    "    "
   ]
  },
  {
   "cell_type": "markdown",
   "metadata": {
    "deletable": false,
    "editable": false
   },
   "source": [
    "<div class = \"panel panel-primary\">\n",
    "    <div class = \"panel-heading\"> \n",
    "    <span style=\"color:white\"><b>Task 4</b>\n",
    "    </div>\n",
    "    <div class = \"panel-body\"> \n",
    "    Calculate the sharpe ratio for each of the ETF's, using 2% as the risk-free rate.\n",
    "    <br><br>Choose an appropriate visual plot to compare the mean returns, standard deviation of returns, and the sharpe ratio across the ETF's on three plots. Remember to label the y-axis and provide a title for each plot. Comment on whether the results are as expected.\n",
    "    <p style=\"text-align:right;\">[10pts]</p>\n",
    "    </div>\n",
    "</div>"
   ]
  },
  {
   "cell_type": "code",
   "execution_count": null,
   "metadata": {
    "scrolled": true
   },
   "outputs": [],
   "source": [
    "mean_annual = hist_returns.mean()*(250.)\n",
    "stdev_annual = hist_returns.std()*(250.**.5)\n",
    "rf=.02\n",
    "\n",
    "sharpe_ratio = (mean_annual-rf)/stdev_annual\n",
    "sharpe_ratio"
   ]
  },
  {
   "cell_type": "code",
   "execution_count": null,
   "metadata": {},
   "outputs": [],
   "source": [
    "splot=sharpe_ratio.plot.barh()\n",
    "splot.set(xlabel=\"Sharpe Ratios\",title=\"Sharpe ratios for ETFs\")\n",
    "plt.show()\n",
    "\n",
    "mplot= mean_annual.plot.barh()\n",
    "mplot.set(xlabel=\"Mean returns\", title=\"Mean returns for ETFs\")\n",
    "plt.show()\n",
    "\n",
    "dplot=stdev_annual.plot.barh()\n",
    "dplot.set(xlabel=\"Standard deviation\", title=\"Standard deviation for ETFs\")\n",
    "plt.show()"
   ]
  },
  {
   "cell_type": "markdown",
   "metadata": {},
   "source": [
    "THe plot is more or less what i ekpected it to be\n",
    "\n",
    "\n",
    "\n"
   ]
  },
  {
   "cell_type": "markdown",
   "metadata": {
    "deletable": false,
    "editable": false
   },
   "source": [
    "<div class = \"panel panel-primary\">\n",
    "    <div class = \"panel-heading\"> \n",
    "    <span style=\"color:white\"><b>Task 5</b>\n",
    "    </div>\n",
    "    <div class = \"panel-body\"> \n",
    "    Write a function called <code>portfolio_statistics</code> that takes in the following as inputs:\n",
    "    <ul>\n",
    "        <li>A dataframe of returns over a time period for each ETF in the portfolio.</li>\n",
    "        <li>An array of weights representing each ETF's percentage allocation in the portfolio.</li>\n",
    "        <li>A float for the risk-free rate.</li>\n",
    "    </ul>\n",
    "    <br>The function then calculates and outputs the following results:\n",
    "    <ul>\n",
    "        <li>The portfolio's returns over that time period based off the provided weights.</li>\n",
    "        <li>The portfolio's annualized mean return over that time period.</li>\n",
    "        <li>The portfolio's annualized standard deviation of returns over that time period.</li>\n",
    "        <li>The portfolio's sharpe ratio over the time period using the risk-free rate provided as input.</li>\n",
    "    </ul>\n",
    "    <p style=\"text-align:right;\">[10pts]</p>\n",
    "    </div>\n",
    "</div>"
   ]
  },
  {
   "cell_type": "code",
   "execution_count": null,
   "metadata": {},
   "outputs": [],
   "source": [
    "weights = np.array([.20,.20,.20,.20,.20])\n",
    "\n",
    "def portfolio_statistics(time_period,weights,rf):\n",
    "    if  time_period =='hist_returns' :\n",
    "        portfolio_returns = np.sum(hist_returns*weights, axis =1)\n",
    "        portfolio_mean = portfolio_returns.mean()*250.\n",
    "        portfolio_std = portfolio_returns.std()*(250.**.5)\n",
    "        portfolio_sharpe = (portfolio_mean-rf)/portfolio_std\n",
    "        return portfolio_returns,portfolio_std,portfolio_sharpe\n",
    "    elif time_period =='recent_returns' :\n",
    "        portfolio_returns = np.sum(hist_returns*weights, axis =1)\n",
    "        portfolio_mean = portfolio_returns.mean()*250.\n",
    "        portfolio_std = portfolio_returns.std()*(250.**.5)\n",
    "        portfolio_sharpe = (portfolio_mean-rf)/portfolio_std\n",
    "        return portfolio_returns,portfolio_std,portfolio_sharpe\n",
    "    else:\n",
    "        print(\"Does not belong to the time period\")\n",
    "    "
   ]
  },
  {
   "cell_type": "code",
   "execution_count": null,
   "metadata": {},
   "outputs": [],
   "source": [
    "portfolio_statistics('hist_returns',np.array([.20,.20,.20,.20,.20]),.02)"
   ]
  },
  {
   "cell_type": "markdown",
   "metadata": {
    "deletable": false,
    "editable": false
   },
   "source": [
    "<div class = \"panel panel-primary\">\n",
    "    <div class = \"panel-heading\"> \n",
    "    <span style=\"color:white\"><b>Task 6</b>\n",
    "    </div>\n",
    "    <div class = \"panel-body\"> \n",
    "    Call the function <code>portfolio_statistics</code> to calculate statistics on the following two portfolios:\n",
    "    <ul>\n",
    "        <li>A traditional portfolio with 80% allocated to US Large Cap Equities represented by the SPY index ETF and 20% allocated to US Corporate Bonds represented by the LQD index ETF.</li>\n",
    "        <li>A equal weighted portfolio with 20% allocated to each of the 5 ETF's.</li>\n",
    "    </ul>\n",
    "    Continue to use 2% as the risk-free rate.\n",
    "    <br><br>Plot the sharpe ratios of the two created portfolios with the sharpe ratios of each individual index on a single plot. Remember to label the y-axis and provide a title for each plot. Comment on whether the results are as expected.\n",
    "    <p style=\"text-align:right;\">[10pts]</p>\n",
    "    </div>\n",
    "</div>"
   ]
  },
  {
   "cell_type": "code",
   "execution_count": null,
   "metadata": {},
   "outputs": [],
   "source": [
    "portfolio_statistics('hist_returns',np.array([.80,.20,0,0,0]),.02)"
   ]
  },
  {
   "cell_type": "code",
   "execution_count": null,
   "metadata": {},
   "outputs": [],
   "source": [
    "select=['SPY', 'LQD']\n",
    "\n",
    "pmean,pdev,sratio=portfolio_statistics(time_period=ETF_returns.loc[:,select],weights=[0.8,0.2], rf=0.02)\n",
    "\n",
    "pmeanc=np.sum(pmean,axis=1)\n",
    "pdevc=np.sum(pdev,axis=1)\n",
    "sratioc=np.sum(sratio,axis=1)\n",
    "\n",
    "plt.plot(sratio)\n",
    "plt.plot(sratioc)\n",
    "plt.ylabel(\"Sharpe ratio\")\n",
    "plt.legend(['SPY', 'LQD','Portfolio'])"
   ]
  },
  {
   "cell_type": "code",
   "execution_count": null,
   "metadata": {},
   "outputs": [],
   "source": [
    "portfolio_statistics('hist_returns',np.array([.20,.20,.20,.20,.20]),.02)"
   ]
  },
  {
   "cell_type": "code",
   "execution_count": null,
   "metadata": {},
   "outputs": [],
   "source": []
  },
  {
   "cell_type": "markdown",
   "metadata": {},
   "source": [
    "*Your written response here*\n",
    "\n",
    "\n"
   ]
  },
  {
   "cell_type": "markdown",
   "metadata": {
    "deletable": false,
    "editable": false
   },
   "source": [
    "<div class = \"panel panel-primary\">\n",
    "    <div class = \"panel-heading\"> \n",
    "    <span style=\"color:white\"><b>Task 7</b>\n",
    "    </div>\n",
    "    <div class = \"panel-body\"> \n",
    "    The prior portfolios (traditional and equally-weighted allocations) created in the previous task are simply two possible portfolio allocations across the 5 asset classes. Now we will attempt to locate the efficient frontier which offers the highest expected return for each level of risk via a simulation approach.\n",
    "    <br><br>Specifically, we will generate a large number of random portfolio weights distributed across our 5 asset classes. As the number of simulated portfolios increase, the greater the chance will be of obtaining the true efficient frontier.\n",
    "    <br><br>Write a function called <code>efficient_frontier_simulation</code> which will take in a dataframe <code>returns</code> containing the returns of the ETFs and an integer <code>num_sims</code> representing the number of simulations. The function will then: \n",
    "    <ul>\n",
    "        <li>Generate an array of size <code>(num_sims, 5)</code> containing random numbers between 0 and 1.</li> \n",
    "        <li>Make sure to normalize the weights such that each row sums to 1, by dividing each weight by its row-sum. Each row of the array will then represent the weights assigned to each ETF for that simulated trial.</li>\n",
    "        <li>Calculate the time series of returns for the simulated portfolio for each specific trial according to its randomly generated allocation.</li>\n",
    "        <li>Calculate the annualized mean and standard deviation of the simulated portfolio's returns for each trial.</li>\n",
    "        <li>Calculate the sharpe ratio for each simulated portfolio, assuming a risk-free rate of 2%.</li>\n",
    "    </ul>\n",
    "    <br>The output of the function should include the following:\n",
    "    <ul>\n",
    "        <li>The weights (rounded to 2 decimals) for all simulated portfolios.</li>\n",
    "        <li>The mean returns for all simulated portfolios.</li>\n",
    "        <li>standard deviation of returns for all simulated portfolios.</li>\n",
    "        <li>The sharpe ratios for all simulated portfolios.</li>\n",
    "    </ul>\n",
    "    <br>Run the function <code>efficient_frontier_simulation</code> using the returns stored in <code>hist_returns</code> and 50,000 simulations to locate the efficient frontier. Set the random seed to 5615 at the start of the simulation.\n",
    "    <p style=\"text-align:right;\">[10pts]</p>\n",
    "    </div>\n",
    "</div>"
   ]
  },
  {
   "cell_type": "code",
   "execution_count": null,
   "metadata": {},
   "outputs": [],
   "source": []
  },
  {
   "cell_type": "markdown",
   "metadata": {
    "deletable": false,
    "editable": false
   },
   "source": [
    "<div class = \"panel panel-primary\">\n",
    "    <div class = \"panel-heading\"> \n",
    "    <span style=\"color:white\"><b>Task 8</b>\n",
    "    </div>\n",
    "    <div class = \"panel-body\"> \n",
    "    Define the \"optimal portfolio\" as the portfolio which maximizes the sharpe ratio. Identify the optimal portfolio from among the simulated portfolios, and report its sharpe ratio, mean return, standard deviation of returns, and portfolio allocation.\n",
    "    <br><br>How much of the portfolio was allocated to each ETF, and comment on whether the results as expected? \n",
    "    <p style=\"text-align:right;\">[10pts]</p>\n",
    "    </div>\n",
    "</div>"
   ]
  },
  {
   "cell_type": "code",
   "execution_count": null,
   "metadata": {},
   "outputs": [],
   "source": []
  },
  {
   "cell_type": "markdown",
   "metadata": {},
   "source": [
    "*Your written response here*\n",
    "\n",
    "\n"
   ]
  },
  {
   "cell_type": "markdown",
   "metadata": {
    "deletable": false,
    "editable": false
   },
   "source": [
    "<div class = \"panel panel-primary\">\n",
    "    <div class = \"panel-heading\"> \n",
    "    <span style=\"color:white\"><b>Task 9</b>\n",
    "    </div>\n",
    "    <div class = \"panel-body\"> \n",
    "    Craft another portfolio that is 70% allocated to the optimal portfolio identified in the previous task, and 30% allocated to Gold as represented by the GLD ETF. Then, using the <code>portfolio_statistics</code> function, calculate the portfolio's annualized mean and standard deviation of returns, and its sharpe ratio.\n",
    "    <br><br>Plot a scatter plot with the standard deviation of returns on the x-axis and the mean returns on the y-axis, and consisting of the following:\n",
    "    <ul>\n",
    "        <li>The 50,000 simulated portfolios using a color map of <code>Blues</code> and the color greadient set equal to its sharpe ratio.</li>\n",
    "        <li>The optimal portfolio identified in the previous task with the color *red* for its marker.</li>\n",
    "        <li>The 30% gold portfolio with the color *gold* for its marker.</li>\n",
    "    </ul>\n",
    "    <br>Remember to provide an appropriate figure size, title, axis labels, and a legend to the plot. The outer-most portfolios mark our simulated efficient frontier.\n",
    "    <br><br>Comment on how the performance of the 30% gold portfolio compares relative to the optimal portfolio and the efficient frontier. Based on these results, which of the two portfolios, the optimal portfolio or the 30% gold portfolio, would you recommend a client to invest in?\n",
    "    <p style=\"text-align:right;\">[10pts]</p>\n",
    "    </div>\n",
    "</div>"
   ]
  },
  {
   "cell_type": "code",
   "execution_count": null,
   "metadata": {},
   "outputs": [],
   "source": []
  },
  {
   "cell_type": "code",
   "execution_count": null,
   "metadata": {},
   "outputs": [],
   "source": []
  },
  {
   "cell_type": "markdown",
   "metadata": {},
   "source": [
    "*Your written response here*\n",
    "\n",
    "\n"
   ]
  },
  {
   "cell_type": "markdown",
   "metadata": {
    "deletable": false,
    "editable": false
   },
   "source": [
    "<div class = \"panel panel-primary\">\n",
    "    <div class = \"panel-heading\"> \n",
    "    <span style=\"color:white\"><b>Task 10</b>\n",
    "    </div>\n",
    "    <div class = \"panel-body\"> \n",
    "    Now we will reexamine how the optimal portfolio and the 30% gold portfolio performs in more recent market conditions, starting from January 1st 2020 onward.\n",
    "    <br><br>Call the function <code>portfolio_statistics</code>, this time using the returns stored in the dataframe <code>recent_returns</code> and a risk-free rate of 1% to calculate the portfolio returns, mean return, standard deviation of returns, and the sharpe ratio for both of the previously constructed portfolios:\n",
    "    <ul>\n",
    "        <li>The optimal portfolio weights determined in Task 8.</li>\n",
    "        <li>The 30% gold portfolio weights constructed in Task 9.</li>\n",
    "    </ul>\n",
    "    <br>How do the two portfolio performances compare during 2020?\n",
    "    <p style=\"text-align:right;\">[10pts]</p>\n",
    "    </div>\n",
    "</div>"
   ]
  },
  {
   "cell_type": "code",
   "execution_count": null,
   "metadata": {},
   "outputs": [],
   "source": []
  },
  {
   "cell_type": "markdown",
   "metadata": {},
   "source": [
    "*Your written response here*\n",
    "\n",
    "\n"
   ]
  },
  {
   "cell_type": "markdown",
   "metadata": {
    "deletable": false,
    "editable": false
   },
   "source": [
    "<div class = \"panel panel-primary\">\n",
    "    <div class = \"panel-heading\"> \n",
    "    <span style=\"color:white\"><b>Task 11</b>\n",
    "    </div>\n",
    "    <div class = \"panel-body\"> \n",
    "    Assume your client invested \\$10,000 in both the optimal portfolio and the 30% gold portfolio at the start of 2020. Calculate and plot the portfolio's value over the 2020 year-to-date trading days available in our dataset.\n",
    "    <br><br>How does the two portfolio values compare? Based on recent performance, which of the two portfolios would you recommend a client to invest in?\n",
    "    <p style=\"text-align:right;\">[10pts]</p>\n",
    "    </div>\n",
    "</div>"
   ]
  },
  {
   "cell_type": "code",
   "execution_count": null,
   "metadata": {},
   "outputs": [],
   "source": []
  },
  {
   "cell_type": "markdown",
   "metadata": {},
   "source": [
    "*Your written response here*\n",
    "\n",
    "\n"
   ]
  },
  {
   "cell_type": "markdown",
   "metadata": {
    "deletable": false,
    "editable": false
   },
   "source": [
    "<div class = \"panel panel-primary\">\n",
    "    <div class = \"panel-heading\"> \n",
    "    <span style=\"color:white\"><b>Extra Credit</b>\n",
    "    </div>\n",
    "    <div class = \"panel-body\"> \n",
    "    One drawback of the <code>efficient_frontier_simulation</code> written in Task 7 is that it requires a large amount of memory to calculate and store the time series of returns for each simulated portfolio. This severely limits the number of portfolios we can simulate. Instead, if we calculate the mean and standard deviation of returns for the portfolio directly using matrix multiplication, then this greatly reduces the memory requirements for excuting the function.\n",
    "    <br><br>Under matrix notation, where $\\mu$ represents the vector of ETF's mean returns and $\\Sigma$ represents the covariance matrix for the ETF returns, the portfolio mean and standard deviation of returns can be calculated by:\n",
    "    <br><br>\n",
    "    $$\\mu_{port} = \\mu^Tw$$\n",
    "    <br>\n",
    "    $$\\sigma^2_{port} = w^T\\Sigma w$$\n",
    "    <br>Create a new function <code>efficient_frontier_simulation_linalg</code>, which modifies the <code>efficient_frontier_simulation</code> function to use <code>np.matmul</code> in conjuction with broadcasting to perform matrix multiplication to calculate the mean and standard deviation of returns for the all simulated portfolios directly. Also locate and output the optimal portfolio weights (rounded to 2 decimals) associated with the maximum sharpe ratio.\n",
    "    <br><br>Simulate 1 million portfolios using <code>efficient_frontier_simulation_linalg</code>. Assume 2% as the risk-free rate, and use a random seed of 5615 at the start of the simulation. How does the optimal portfolio weights located based off of 1 million simulations differ from that of 50,000 simulations?\n",
    "    <p style=\"text-align:right;\">[10pts]</p>\n",
    "    </div>\n",
    "</div>\n",
    "\n"
   ]
  },
  {
   "cell_type": "code",
   "execution_count": null,
   "metadata": {},
   "outputs": [],
   "source": []
  },
  {
   "cell_type": "markdown",
   "metadata": {},
   "source": [
    "*Your written response here*\n",
    "\n",
    "\n"
   ]
  },
  {
   "cell_type": "code",
   "execution_count": null,
   "metadata": {},
   "outputs": [],
   "source": []
  }
 ],
 "metadata": {
  "kernelspec": {
   "display_name": "Python 3",
   "language": "python",
   "name": "python3"
  },
  "language_info": {
   "codemirror_mode": {
    "name": "ipython",
    "version": 3
   },
   "file_extension": ".py",
   "mimetype": "text/x-python",
   "name": "python",
   "nbconvert_exporter": "python",
   "pygments_lexer": "ipython3",
   "version": "3.7.4"
  }
 },
 "nbformat": 4,
 "nbformat_minor": 2
}
